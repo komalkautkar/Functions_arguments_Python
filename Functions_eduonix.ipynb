{
 "cells": [
  {
   "cell_type": "code",
   "execution_count": 1,
   "id": "2824152f",
   "metadata": {},
   "outputs": [
    {
     "name": "stdout",
     "output_type": "stream",
     "text": [
      "Hi!Welcome\n"
     ]
    }
   ],
   "source": [
    "def myfun():\n",
    "    print(\"Hi!Welcome\")\n",
    "myfun()    "
   ]
  },
  {
   "cell_type": "code",
   "execution_count": 5,
   "id": "2337cf01",
   "metadata": {},
   "outputs": [
    {
     "name": "stdout",
     "output_type": "stream",
     "text": [
      "3\n"
     ]
    }
   ],
   "source": [
    "def add(a,b):\n",
    "    c=a+b\n",
    "    return c\n",
    "c=add(1,2)\n",
    "print(c)\n",
    "       "
   ]
  },
  {
   "cell_type": "markdown",
   "id": "c0753ffb",
   "metadata": {},
   "source": [
    "### function program odd or even"
   ]
  },
  {
   "cell_type": "code",
   "execution_count": 7,
   "id": "d6737aff",
   "metadata": {},
   "outputs": [
    {
     "name": "stdout",
     "output_type": "stream",
     "text": [
      "enter a no:1\n",
      "odd\n"
     ]
    }
   ],
   "source": [
    "def oddeve():\n",
    "    a=int(input(\"enter a no:\"))\n",
    "    if a%2==0:\n",
    "       print(\"even\")\n",
    "    else:\n",
    "       print(\"odd\")\n",
    "oddeve()                \n",
    "                \n",
    "        "
   ]
  },
  {
   "cell_type": "code",
   "execution_count": 8,
   "id": "94db3ffe",
   "metadata": {},
   "outputs": [
    {
     "name": "stdout",
     "output_type": "stream",
     "text": [
      "enter a no:3\n",
      "odd\n"
     ]
    }
   ],
   "source": [
    "def oddeve(a):\n",
    "    if a%2==0:\n",
    "      print(\"even\")\n",
    "    else:\n",
    "        print(\"odd\")\n",
    "m=int(input(\"enter a no:\")) \n",
    "oddeve(m)\n",
    "    "
   ]
  },
  {
   "cell_type": "code",
   "execution_count": 9,
   "id": "e8a1df39",
   "metadata": {},
   "outputs": [
    {
     "name": "stdout",
     "output_type": "stream",
     "text": [
      "even\n"
     ]
    }
   ],
   "source": [
    "def oddeve(a):\n",
    "    if a%2==0:\n",
    "      print(\"even\")\n",
    "    else:\n",
    "        print(\"odd\")\n",
    "oddeve(6)"
   ]
  },
  {
   "cell_type": "markdown",
   "id": "06ffbf1c",
   "metadata": {},
   "source": [
    "### Square of a number\n"
   ]
  },
  {
   "cell_type": "code",
   "execution_count": 19,
   "id": "66014b13",
   "metadata": {},
   "outputs": [
    {
     "name": "stdout",
     "output_type": "stream",
     "text": [
      "enter a no:-9\n",
      "81\n"
     ]
    }
   ],
   "source": [
    "def square(n):\n",
    "    m=n*n\n",
    "    print(m)\n",
    "a=int(input(\"enter a no:\"))\n",
    "square(a)\n"
   ]
  },
  {
   "cell_type": "markdown",
   "id": "4f490f98",
   "metadata": {},
   "source": [
    "### default arguments"
   ]
  },
  {
   "cell_type": "code",
   "execution_count": 21,
   "id": "394b7f1f",
   "metadata": {},
   "outputs": [
    {
     "name": "stdout",
     "output_type": "stream",
     "text": [
      "10\n",
      "23\n"
     ]
    }
   ],
   "source": [
    "def myfun(x=10,y=23):\n",
    "     print(x)\n",
    "     print(y)\n",
    "myfun()        "
   ]
  },
  {
   "cell_type": "code",
   "execution_count": 22,
   "id": "d48d996e",
   "metadata": {},
   "outputs": [
    {
     "name": "stdout",
     "output_type": "stream",
     "text": [
      "25\n",
      "23\n"
     ]
    }
   ],
   "source": [
    "def myfun(x=10,y=23):\n",
    "     print(x)\n",
    "     print(y)\n",
    "myfun(25)        "
   ]
  },
  {
   "cell_type": "code",
   "execution_count": 23,
   "id": "bbe8ee00",
   "metadata": {},
   "outputs": [
    {
     "name": "stdout",
     "output_type": "stream",
     "text": [
      "25\n",
      "100\n"
     ]
    }
   ],
   "source": [
    "def myfun(x=10,y=23):\n",
    "     print(x)\n",
    "     print(y)\n",
    "myfun(25,100)        "
   ]
  },
  {
   "cell_type": "code",
   "execution_count": null,
   "id": "d9747376",
   "metadata": {},
   "outputs": [],
   "source": []
  }
 ],
 "metadata": {
  "kernelspec": {
   "display_name": "Python 3 (ipykernel)",
   "language": "python",
   "name": "python3"
  },
  "language_info": {
   "codemirror_mode": {
    "name": "ipython",
    "version": 3
   },
   "file_extension": ".py",
   "mimetype": "text/x-python",
   "name": "python",
   "nbconvert_exporter": "python",
   "pygments_lexer": "ipython3",
   "version": "3.11.5"
  }
 },
 "nbformat": 4,
 "nbformat_minor": 5
}
